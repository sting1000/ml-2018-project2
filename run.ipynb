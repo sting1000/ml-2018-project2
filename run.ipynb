{
 "cells": [
  {
   "cell_type": "code",
   "execution_count": 1,
   "metadata": {},
   "outputs": [],
   "source": [
    "import numpy as np\n",
    "from utils import *\n",
    "from mf import *\n",
    "from blend import *\n",
    "from helpers import *\n",
    "%matplotlib inline\n",
    "%load_ext autoreload\n",
    "%autoreload 2"
   ]
  },
  {
   "cell_type": "code",
   "execution_count": 2,
   "metadata": {},
   "outputs": [
    {
     "name": "stdout",
     "output_type": "stream",
     "text": [
      "Loading training set\n",
      "Done\n"
     ]
    }
   ],
   "source": [
    "# load training set\n",
    "print('Loading training set')\n",
    "train = load_data('./data/data_train.csv')\n",
    "print('Done')"
   ]
  },
  {
   "cell_type": "code",
   "execution_count": 3,
   "metadata": {
    "scrolled": true
   },
   "outputs": [
    {
     "name": "stdout",
     "output_type": "stream",
     "text": [
      "Start the ALS algorithm...\n",
      "RMSE on training set: 1.7964736112460344.\n",
      "RMSE on training set: 1.2286995275744703.\n",
      "RMSE on training set: 1.0932785115906445.\n",
      "RMSE on training set: 1.0278773837589221.\n",
      "RMSE on training set: 0.9906108848730182.\n",
      "RMSE on training set: 0.9678988536091663.\n",
      "RMSE on training set: 0.9535721145343535.\n",
      "RMSE on training set: 0.9442619509320134.\n",
      "RMSE on training set: 0.9379348710727304.\n",
      "RMSE on training set: 0.9334333537692111.\n",
      "RMSE on training set: 0.9301032688795944.\n",
      "RMSE on training set: 0.9275611014126798.\n",
      "RMSE on training set: 0.9255709226642458.\n",
      "RMSE on training set: 0.9239808112081569.\n",
      "RMSE on training set: 0.9226889428045962.\n",
      "RMSE on training set: 0.9216246850998048.\n",
      "RMSE on training set: 0.9207375843505441.\n",
      "RMSE on training set: 0.919990686590305.\n",
      "RMSE on training set: 0.9193563390259814.\n",
      "RMSE on training set: 0.918813464471761.\n",
      "RMSE on training set: 0.9183457403470506.\n",
      "RMSE on training set: 0.917940350141075.\n",
      "RMSE on training set: 0.9175871072800371.\n",
      "RMSE on training set: 0.9172778274825495.\n",
      "RMSE on training set: 0.9170058708535864.\n",
      "RMSE on training set: 0.9167658024456953.\n",
      "RMSE on training set: 0.9165531371205415.\n",
      "RMSE on training set: 0.9163641454405623.\n",
      "RMSE on training set: 0.9161957044135732.\n",
      "RMSE on training set: 0.9160451816349846.\n",
      "RMSE on training set: 0.9159103445783967.\n",
      "RMSE on training set: 0.9157892890104293.\n",
      "RMSE on training set: 0.9156803820734761.\n",
      "RMSE on training set: 0.9155822167064284.\n",
      "RMSE on training set: 0.9154935748918822.\n",
      "RMSE on training set: 0.915413397820885.\n",
      "RMSE on training set: 0.9153407615149108.\n",
      "RMSE on training set: 0.9152748567801746.\n",
      "RMSE on training set: 0.9152149726234391.\n",
      "RMSE on training set: 0.9151604824510784.\n",
      "RMSE on training set: 0.9151108325191049.\n",
      "RMSE on training set: 0.9150655322168673.\n",
      "RMSE on training set: 0.915024145851236.\n",
      "RMSE on training set: 0.9149862856670419.\n",
      "RMSE on training set: 0.9149516058921656.\n",
      "RMSE on training set: 0.9149197976345976.\n",
      "RMSE on training set: 0.9148905844935112.\n",
      "RMSE on training set: 0.9148637187699624.\n",
      "RMSE on training set: 0.9148389781841647.\n",
      "RMSE on training set: 0.9148161630216679.\n",
      "RMSE on training set: 0.914795093645369.\n",
      "RMSE on training set: 0.914775608318816.\n",
      "RMSE on training set: 0.9147575612971162.\n",
      "RMSE on training set: 0.914740821147251.\n",
      "RMSE on training set: 0.9147252692662663.\n",
      "RMSE on training set: 0.9147107985707222.\n",
      "RMSE on training set: 0.914697312334318.\n",
      "RMSE on training set: 0.9146847231546777.\n",
      "RMSE on training set: 0.9146729520325391.\n",
      "RMSE on training set: 0.9146619275491868.\n",
      "RMSE on training set: 0.9146515851303999.\n",
      "RMSE on training set: 0.914641866385793.\n",
      "---Training is done---\n",
      "Start prediction mode...\n",
      "Predicting Now:  ./data/sample_submission.csv\n",
      "Predicting file is created.\n"
     ]
    }
   ],
   "source": [
    "#train by MF-ALS\n",
    "als_train_rmse, als_test_rmse = matrix_factorization_ALS(train, None)"
   ]
  },
  {
   "cell_type": "code",
   "execution_count": 7,
   "metadata": {},
   "outputs": [
    {
     "name": "stdout",
     "output_type": "stream",
     "text": [
      "Start blend-Training mode(return w and RMSE)...\n",
      "Done!\n",
      "w:  [[1.02786971]]\n",
      "blend train RMSE:  0.9549276443370032\n",
      "als train RMSE:  0.914641866385793\n"
     ]
    }
   ],
   "source": [
    "#blend models by ridge regression\n",
    "train_als = get_rank_list(\"./data/train_als.csv\")\n",
    "y_train = get_rank_list('./data/data_train.csv')\n",
    "w, blend_rmse = blend(train_als, y_train= y_train)\n",
    "print('w: ', w)\n",
    "print('blend train RMSE: ', blend_rmse)\n",
    "print('als train RMSE: ', als_train_rmse)"
   ]
  },
  {
   "cell_type": "code",
   "execution_count": 8,
   "metadata": {},
   "outputs": [
    {
     "name": "stdout",
     "output_type": "stream",
     "text": [
      "Start blend-Predicting mode(return prediction array)...\n",
      "Done!\n"
     ]
    }
   ],
   "source": [
    "#predict submit and save as csv\n",
    "import pandas as pd\n",
    "submit_als = get_rank_list(\"./data/submit_als.csv\")\n",
    "submit_pre = blend(submit_als, bool_pred= True, w=w)\n",
    "sample_sub = pd.read_csv(\"./data/sample_submission.csv\")\n",
    "sample_sub['Prediction'] = submit_pre\n",
    "sample_sub.to_csv('./data/submit.csv', index=False)"
   ]
  },
  {
   "cell_type": "code",
   "execution_count": null,
   "metadata": {
    "scrolled": true
   },
   "outputs": [],
   "source": [
    "\n"
   ]
  }
 ],
 "metadata": {
  "kernelspec": {
   "display_name": "Python [conda env:ada]",
   "language": "python",
   "name": "conda-env-ada-py"
  },
  "language_info": {
   "codemirror_mode": {
    "name": "ipython",
    "version": 3
   },
   "file_extension": ".py",
   "mimetype": "text/x-python",
   "name": "python",
   "nbconvert_exporter": "python",
   "pygments_lexer": "ipython3",
   "version": "3.5.6"
  }
 },
 "nbformat": 4,
 "nbformat_minor": 2
}
