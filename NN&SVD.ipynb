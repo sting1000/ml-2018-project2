{
 "cells": [
  {
   "cell_type": "code",
   "execution_count": 49,
   "metadata": {},
   "outputs": [
    {
     "name": "stdout",
     "output_type": "stream",
     "text": [
      "The autoreload extension is already loaded. To reload it, use:\n",
      "  %reload_ext autoreload\n"
     ]
    }
   ],
   "source": [
    "import matplotlib.pyplot as plt\n",
    "import pandas as pd\n",
    "from sklearn.model_selection import train_test_split\n",
    "from sklearn.metrics import mean_absolute_error\n",
    "import pickle\n",
    "import time\n",
    "import keras\n",
    "from neural_net import preprocess_for_neural_net\n",
    "from neural_net import neural_network\n",
    "\n",
    "%matplotlib inline\n",
    "%load_ext autoreload\n",
    "%autoreload 2"
   ]
  },
  {
   "cell_type": "code",
   "execution_count": null,
   "metadata": {},
   "outputs": [],
   "source": [
    "from surprise import SVD\n",
    "from surprise import Dataset\n",
    "from surprise import Reader\n",
    "from surprise import accuracy"
   ]
  },
  {
   "cell_type": "markdown",
   "metadata": {},
   "source": [
    "# Neural Net"
   ]
  },
  {
   "cell_type": "code",
   "execution_count": 50,
   "metadata": {},
   "outputs": [],
   "source": [
    "path_dataset = \"./data/data_train.csv\"\n",
    "dataset = pd.read_csv(path_dataset,encoding='utf-8')\n",
    "dataset = preprocess_for_neural_net(dataset)\n",
    "n_users, n_movies = len(dataset.user.unique()), len(dataset.movie.unique())\n",
    "train, valid = train_test_split(dataset, test_size=0.1)"
   ]
  },
  {
   "cell_type": "code",
   "execution_count": 64,
   "metadata": {
    "scrolled": false
   },
   "outputs": [
    {
     "name": "stdout",
     "output_type": "stream",
     "text": [
      "Train on 1059256 samples, validate on 117696 samples\n",
      "Epoch 1/26\n",
      "1059256/1059256 [==============================] - 8s 8us/step - loss: 2.7157 - acc: 0.2566 - val_loss: 1.0715 - val_acc: 0.3038\n",
      "Epoch 2/26\n",
      "1059256/1059256 [==============================] - 7s 7us/step - loss: 1.6367 - acc: 0.2964 - val_loss: 1.0403 - val_acc: 0.3113\n",
      "Epoch 3/26\n",
      "1059256/1059256 [==============================] - 7s 6us/step - loss: 1.5052 - acc: 0.3080 - val_loss: 1.0278 - val_acc: 0.3142\n",
      "Epoch 4/26\n",
      "1059256/1059256 [==============================] - 7s 7us/step - loss: 1.4012 - acc: 0.3174 - val_loss: 1.0186 - val_acc: 0.3150\n",
      "Epoch 5/26\n",
      "1059256/1059256 [==============================] - 7s 6us/step - loss: 1.3101 - acc: 0.3249 - val_loss: 1.0135 - val_acc: 0.3158\n",
      "Epoch 6/26\n",
      "1059256/1059256 [==============================] - 7s 6us/step - loss: 1.2369 - acc: 0.3320 - val_loss: 1.0117 - val_acc: 0.3178\n",
      "Epoch 7/26\n",
      "1059256/1059256 [==============================] - 7s 6us/step - loss: 1.1743 - acc: 0.3373 - val_loss: 1.0082 - val_acc: 0.3193\n",
      "Epoch 8/26\n",
      "1059256/1059256 [==============================] - 6s 6us/step - loss: 1.1222 - acc: 0.3419 - val_loss: 1.0104 - val_acc: 0.3154\n",
      "Epoch 9/26\n",
      "1059256/1059256 [==============================] - 7s 7us/step - loss: 1.0872 - acc: 0.3443 - val_loss: 1.0080 - val_acc: 0.3165\n",
      "Epoch 10/26\n",
      "1059256/1059256 [==============================] - 7s 7us/step - loss: 1.0581 - acc: 0.3468 - val_loss: 1.0089 - val_acc: 0.3151\n",
      "Epoch 11/26\n",
      "1059256/1059256 [==============================] - 7s 7us/step - loss: 1.0383 - acc: 0.3486 - val_loss: 1.0116 - val_acc: 0.3161\n",
      "Epoch 12/26\n",
      "1059256/1059256 [==============================] - 7s 7us/step - loss: 1.0241 - acc: 0.3505 - val_loss: 1.0018 - val_acc: 0.3246\n",
      "Epoch 13/26\n",
      "1059256/1059256 [==============================] - 7s 7us/step - loss: 1.0147 - acc: 0.3520 - val_loss: 1.0053 - val_acc: 0.3173\n",
      "Epoch 14/26\n",
      "1059256/1059256 [==============================] - 7s 7us/step - loss: 1.0087 - acc: 0.3538 - val_loss: 1.0027 - val_acc: 0.3207\n",
      "Epoch 15/26\n",
      "1059256/1059256 [==============================] - 7s 7us/step - loss: 1.0051 - acc: 0.3545 - val_loss: 1.0020 - val_acc: 0.3238\n",
      "Epoch 16/26\n",
      "1059256/1059256 [==============================] - 7s 7us/step - loss: 1.0021 - acc: 0.3539 - val_loss: 1.0045 - val_acc: 0.3201\n",
      "Epoch 17/26\n",
      "1059256/1059256 [==============================] - 7s 7us/step - loss: 1.0001 - acc: 0.3546 - val_loss: 0.9998 - val_acc: 0.3250\n",
      "Epoch 18/26\n",
      "1059256/1059256 [==============================] - 8s 7us/step - loss: 0.9985 - acc: 0.3548 - val_loss: 0.9983 - val_acc: 0.3282\n",
      "Epoch 19/26\n",
      "1059256/1059256 [==============================] - 7s 7us/step - loss: 0.9976 - acc: 0.3556 - val_loss: 1.0037 - val_acc: 0.3220\n",
      "Epoch 20/26\n",
      "1059256/1059256 [==============================] - 7s 7us/step - loss: 0.9972 - acc: 0.3557 - val_loss: 1.0003 - val_acc: 0.3259\n",
      "Epoch 21/26\n",
      "1059256/1059256 [==============================] - 7s 7us/step - loss: 0.9952 - acc: 0.3563 - val_loss: 0.9999 - val_acc: 0.3286\n",
      "Epoch 22/26\n",
      "1059256/1059256 [==============================] - 7s 7us/step - loss: 0.9937 - acc: 0.3571 - val_loss: 1.0014 - val_acc: 0.3221\n",
      "Epoch 23/26\n",
      "1059256/1059256 [==============================] - 7s 7us/step - loss: 0.9914 - acc: 0.3579 - val_loss: 0.9989 - val_acc: 0.3278\n",
      "Epoch 24/26\n",
      "1059256/1059256 [==============================] - 8s 7us/step - loss: 0.9897 - acc: 0.3588 - val_loss: 1.0028 - val_acc: 0.3218\n",
      "Epoch 25/26\n",
      "1059256/1059256 [==============================] - 7s 7us/step - loss: 0.9892 - acc: 0.3590 - val_loss: 1.0015 - val_acc: 0.3254\n",
      "Epoch 26/26\n",
      "1059256/1059256 [==============================] - 7s 7us/step - loss: 0.9882 - acc: 0.3584 - val_loss: 0.9980 - val_acc: 0.3296\n"
     ]
    },
    {
     "data": {
      "image/png": "[encoded data removed]",
      "text/plain": [
       "<matplotlib.figure.Figure at 0x7fc334dcc7b8>"
      ]
     },
     "metadata": {},
     "output_type": "display_data"
    },
    {
     "data": {
      "image/png": "[encoded data removed]",
      "text/plain": [
       "<matplotlib.figure.Figure at 0x7fc33395b1d0>"
      ]
     },
     "metadata": {},
     "output_type": "display_data"
    }
   ],
   "source": [
    "model = neural_network(n_users, n_movies, n_latent_factors_user = 5, n_latent_factors_movie = 5)\n",
    "model.compile(optimizer=keras.optimizers.Adam(lr=0.0001),loss= 'mean_squared_error',metrics = ['acc'])\n",
    "history = model.fit([train.user, train.movie],train.rating , epochs=26, verbose=1, batch_size=256,\n",
    "                    validation_data = ([valid.user, valid.movie],valid.rating))\n",
    "acc = history.history['acc']\n",
    "val_acc = history.history['val_acc']\n",
    "loss = history.history['loss']\n",
    "val_loss = history.history['val_loss']\n",
    "epochs = range(1, len(acc) + 1)\n",
    "plt.plot(epochs, acc, 'b', label='Training acc')\n",
    "plt.plot(epochs, val_acc, 'bo', label='Validation acc')\n",
    "plt.title('Training and validation accuracy')\n",
    "plt.legend()\n",
    "plt.figure()\n",
    "plt.plot(epochs, loss, 'b', label='Training loss')\n",
    "plt.plot(epochs, val_loss, 'bo', label='Validation loss')\n",
    "plt.title('Training and validation loss')\n",
    "plt.legend()\n",
    "plt.show()"
   ]
  },
  {
   "cell_type": "code",
   "execution_count": 65,
   "metadata": {},
   "outputs": [
    {
     "name": "stdout",
     "output_type": "stream",
     "text": [
      "__________________________________________________________________________________________________\n",
      "Layer (type)                    Output Shape         Param #     Connected to                     \n",
      "==================================================================================================\n",
      "Item (InputLayer)               (None, 1)            0                                            \n",
      "__________________________________________________________________________________________________\n",
      "User (InputLayer)               (None, 1)            0                                            \n",
      "__________________________________________________________________________________________________\n",
      "Movie-Embedding (Embedding)     (None, 1, 5)         5005        Item[0][0]                       \n",
      "__________________________________________________________________________________________________\n",
      "User-Embedding (Embedding)      (None, 1, 5)         50005       User[0][0]                       \n",
      "__________________________________________________________________________________________________\n",
      "FlattenMovies (Flatten)         (None, 5)            0           Movie-Embedding[0][0]            \n",
      "__________________________________________________________________________________________________\n",
      "FlattenUsers (Flatten)          (None, 5)            0           User-Embedding[0][0]             \n",
      "__________________________________________________________________________________________________\n",
      "dropout_40 (Dropout)            (None, 5)            0           FlattenMovies[0][0]              \n",
      "__________________________________________________________________________________________________\n",
      "dropout_41 (Dropout)            (None, 5)            0           FlattenUsers[0][0]               \n",
      "__________________________________________________________________________________________________\n",
      "concatenate_14 (Concatenate)    (None, 10)           0           dropout_40[0][0]                 \n",
      "                                                                 dropout_41[0][0]                 \n",
      "__________________________________________________________________________________________________\n",
      "FullyConnected-1 (Dense)        (None, 70)           770         concatenate_14[0][0]             \n",
      "__________________________________________________________________________________________________\n",
      "FullyConnected-2 (Dense)        (None, 40)           2840        FullyConnected-1[0][0]           \n",
      "__________________________________________________________________________________________________\n",
      "FullyConnected-3 (Dense)        (None, 10)           410         FullyConnected-2[0][0]           \n",
      "__________________________________________________________________________________________________\n",
      "Dropout (Dropout)               (None, 10)           0           FullyConnected-3[0][0]           \n",
      "__________________________________________________________________________________________________\n",
      "Activation (Dense)              (None, 1)            11          Dropout[0][0]                    \n",
      "==================================================================================================\n",
      "Total params: 59,041\n",
      "Trainable params: 59,041\n",
      "Non-trainable params: 0\n",
      "__________________________________________________________________________________________________\n"
     ]
    }
   ],
   "source": [
    "model.summary()"
   ]
  },
  {
   "cell_type": "code",
   "execution_count": 66,
   "metadata": {},
   "outputs": [],
   "source": [
    "model.save('/home/neeraj/Documents/my-recommender-system/m5.h5')"
   ]
  },
  {
   "cell_type": "markdown",
   "metadata": {},
   "source": [
    "# SVD"
   ]
  },
  {
   "cell_type": "code",
   "execution_count": 13,
   "metadata": {},
   "outputs": [
    {
     "name": "stdout",
     "output_type": "stream",
     "text": [
      "RMSE: 0.9958\n"
     ]
    },
    {
     "data": {
      "text/plain": [
       "0.9958023086755949"
      ]
     },
     "execution_count": 13,
     "metadata": {},
     "output_type": "execute_result"
    }
   ],
   "source": [
    "from surprise.model_selection import train_test_split\n",
    "reader = Reader(rating_scale = (1,5))\n",
    "data = Dataset.load_from_df(dataset,reader)\n",
    "train_data, validation_data = train_test_split(data, test_size=0.2)\n",
    "model_svd = SVD(n_factors=105, n_epochs = 25, reg_all = 0.05)\n",
    "model_svd.fit(train_data)\n",
    "validation_label = model_svd.test(validation_data)\n",
    "accuracy.rmse(validation_label, verbose=True)"
   ]
  },
  {
   "cell_type": "markdown",
   "metadata": {},
   "source": [
    "# SVD++"
   ]
  },
  {
   "cell_type": "code",
   "execution_count": 26,
   "metadata": {},
   "outputs": [
    {
     "name": "stdout",
     "output_type": "stream",
     "text": [
      "RMSE: 0.9960\n"
     ]
    },
    {
     "data": {
      "text/plain": [
       "0.9959580744487727"
      ]
     },
     "execution_count": 26,
     "metadata": {},
     "output_type": "execute_result"
    }
   ],
   "source": [
    "from surprise import SVDpp\n",
    "model_svdp = SVDpp(n_factors=22, n_epochs = 15, reg_all = 0.04)\n",
    "model_svdp.fit(train_data)\n",
    "validation_label = model_svdp.test(validation_data)\n",
    "accuracy.rmse(validation_label, verbose=True)"
   ]
  },
  {
   "cell_type": "markdown",
   "metadata": {},
   "source": [
    "# XGBOOST"
   ]
  },
  {
   "cell_type": "code",
   "execution_count": 25,
   "metadata": {},
   "outputs": [
    {
     "name": "stdout",
     "output_type": "stream",
     "text": [
      "Training Accuracy 1.4798898528104705\n",
      "Validation Accuracy  1.4767576922687158\n"
     ]
    }
   ],
   "source": [
    "import xgboost as xgb\n",
    "from sklearn.metrics import mean_squared_error\n",
    "features = ['user','movie']\n",
    "clf_xgb = xgb.XGBClassifier(n_estimators=100,depth=6,subsample=0.5,learning_rate=0.1)\n",
    "clf_xgb.fit(train[features],train['rating'])\n",
    "print('Training Accuracy',np.sqrt(mean_squared_error(train['rating'], clf_xgb.predict(train[features]))))\n",
    "print('Validation Accuracy ',np.sqrt(mean_squared_error(valid['rating'], clf_xgb.predict(valid[features]))))"
   ]
  },
  {
   "cell_type": "code",
   "execution_count": null,
   "metadata": {},
   "outputs": [],
   "source": []
  }
 ],
 "metadata": {
  "kernelspec": {
   "display_name": "Python [default]",
   "language": "python",
   "name": "python3"
  },
  "language_info": {
   "codemirror_mode": {
    "name": "ipython",
    "version": 3
   },
   "file_extension": ".py",
   "mimetype": "text/x-python",
   "name": "python",
   "nbconvert_exporter": "python",
   "pygments_lexer": "ipython3",
   "version": "3.5.6"
  }
 },
 "nbformat": 4,
 "nbformat_minor": 2
}
